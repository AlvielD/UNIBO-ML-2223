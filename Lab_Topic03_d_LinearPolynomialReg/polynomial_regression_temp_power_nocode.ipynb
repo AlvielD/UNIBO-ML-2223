{
 "cells": [
  {
   "cell_type": "markdown",
   "metadata": {},
   "source": [
    "# Polynomial regression \n",
    "\n",
    "The example belows uses a temperature-energy dataset in order to illustrate how to perform a non linear regression.\n",
    "\n",
    "Workflow:\n",
    "1. Preparation\n",
    "    - Extract the dataset from the _power_demand_vs_temperature.csv_ \n",
    "    - Explore the dataset and check for missing values\n",
    "    - Plot the distribution\n",
    "    - Divide the dataset into train and test \n",
    "    - Create an evaluation function\n",
    "2. First experiment\n",
    "    - Create a linear model \n",
    "    - Train the model on X_train and y_train\n",
    "    - Evaluate the model on X_test and y_test\n",
    "    - Visualize the prediction of the model\n",
    "3. Second experiment\n",
    "    - Create a polynomial regression model with degree 2\n",
    "    - Train the model on X_train and y_train\n",
    "    - Evaluate the model on X_test and y_test\n",
    "    - Visualize the prediction of the model\n",
    "4. Third experiment\n",
    "    - repeat the steps done in the second experiment but with degree 3\n",
    "5. Third experiment\n",
    "    - repeat the steps done in the second experiment but with degree 4\n",
    "6. Compare the evaluation of each model\n"
   ]
  },
  {
   "cell_type": "code",
   "execution_count": 26,
   "metadata": {},
   "outputs": [],
   "source": [
    "# Code source: Filippo Orazi \n",
    "# License: BSD 3 clause\n",
    "\n",
    "import matplotlib.pyplot as plt\n",
    "import numpy as np\n",
    "import scipy.stats\n",
    "from sklearn import datasets, linear_model\n",
    "from sklearn.metrics import mean_squared_error, r2_score\n",
    "import pandas as pd\n",
    "from sklearn.preprocessing import PolynomialFeatures\n",
    "from sklearn.linear_model import LinearRegression\n",
    "from sklearn.model_selection import train_test_split\n",
    "\n",
    "random_state = 42 # this will be used to guarantee the repeatability of the experiment"
   ]
  },
  {
   "cell_type": "markdown",
   "metadata": {},
   "source": [
    "## Dataset preparation"
   ]
  },
  {
   "cell_type": "markdown",
   "metadata": {},
   "source": [
    "### Load the dataset from a `.csv` file\n",
    "This cell allows full compatibility between execution in Google Colab and in local\n"
   ]
  },
  {
   "cell_type": "code",
   "execution_count": 27,
   "metadata": {},
   "outputs": [],
   "source": [
    "try:\n",
    "  import google.colab.files\n",
    "  IN_COLAB = True\n",
    "except:\n",
    "  IN_COLAB = False\n",
    "# from google.colab import files\n",
    "if IN_COLAB:\n",
    "    uploaded = files.upload()\n"
   ]
  },
  {
   "cell_type": "markdown",
   "metadata": {},
   "source": [
    "The file must be available in the same directory, or uploaded in the Colab environment in the execution of the previous cell\n"
   ]
  },
  {
   "cell_type": "markdown",
   "metadata": {},
   "source": [
    "Set the date column as index"
   ]
  },
  {
   "cell_type": "code",
   "execution_count": 28,
   "metadata": {},
   "outputs": [],
   "source": [
    "# The file must be available in the same directory, \n",
    "# or uploaded in the Colab environment \n",
    "# in the execution of the previous cell\n",
    "data_fn = 'power_demand_vs_temperature.csv'\n",
    "df = pd.read_csv(data_fn, sep=',', index_col=0)"
   ]
  },
  {
   "cell_type": "code",
   "execution_count": 29,
   "metadata": {},
   "outputs": [
    {
     "data": {
      "text/html": [
       "<div>\n",
       "<style scoped>\n",
       "    .dataframe tbody tr th:only-of-type {\n",
       "        vertical-align: middle;\n",
       "    }\n",
       "\n",
       "    .dataframe tbody tr th {\n",
       "        vertical-align: top;\n",
       "    }\n",
       "\n",
       "    .dataframe thead th {\n",
       "        text-align: right;\n",
       "    }\n",
       "</style>\n",
       "<table border=\"1\" class=\"dataframe\">\n",
       "  <thead>\n",
       "    <tr style=\"text-align: right;\">\n",
       "      <th></th>\n",
       "      <th>demand</th>\n",
       "      <th>temp</th>\n",
       "    </tr>\n",
       "    <tr>\n",
       "      <th>date</th>\n",
       "      <th></th>\n",
       "      <th></th>\n",
       "    </tr>\n",
       "  </thead>\n",
       "  <tbody>\n",
       "    <tr>\n",
       "      <th>2015-01-01</th>\n",
       "      <td>1.736065</td>\n",
       "      <td>1.7</td>\n",
       "    </tr>\n",
       "    <tr>\n",
       "      <th>2015-01-02</th>\n",
       "      <td>1.831672</td>\n",
       "      <td>2.2</td>\n",
       "    </tr>\n",
       "    <tr>\n",
       "      <th>2015-01-03</th>\n",
       "      <td>1.714934</td>\n",
       "      <td>14.4</td>\n",
       "    </tr>\n",
       "    <tr>\n",
       "      <th>2015-01-04</th>\n",
       "      <td>1.628577</td>\n",
       "      <td>15.6</td>\n",
       "    </tr>\n",
       "    <tr>\n",
       "      <th>2015-01-05</th>\n",
       "      <td>2.045394</td>\n",
       "      <td>0.0</td>\n",
       "    </tr>\n",
       "  </tbody>\n",
       "</table>\n",
       "</div>"
      ],
      "text/plain": [
       "              demand  temp\n",
       "date                      \n",
       "2015-01-01  1.736065   1.7\n",
       "2015-01-02  1.831672   2.2\n",
       "2015-01-03  1.714934  14.4\n",
       "2015-01-04  1.628577  15.6\n",
       "2015-01-05  2.045394   0.0"
      ]
     },
     "execution_count": 29,
     "metadata": {},
     "output_type": "execute_result"
    }
   ],
   "source": [
    "df.head()"
   ]
  },
  {
   "cell_type": "markdown",
   "metadata": {},
   "source": [
    "### Explore the dataset and check for missing values\n"
   ]
  },
  {
   "cell_type": "code",
   "execution_count": 30,
   "metadata": {},
   "outputs": [
    {
     "data": {
      "text/html": [
       "<div>\n",
       "<style scoped>\n",
       "    .dataframe tbody tr th:only-of-type {\n",
       "        vertical-align: middle;\n",
       "    }\n",
       "\n",
       "    .dataframe tbody tr th {\n",
       "        vertical-align: top;\n",
       "    }\n",
       "\n",
       "    .dataframe thead th {\n",
       "        text-align: right;\n",
       "    }\n",
       "</style>\n",
       "<table border=\"1\" class=\"dataframe\">\n",
       "  <thead>\n",
       "    <tr style=\"text-align: right;\">\n",
       "      <th></th>\n",
       "      <th>demand</th>\n",
       "      <th>temp</th>\n",
       "    </tr>\n",
       "  </thead>\n",
       "  <tbody>\n",
       "    <tr>\n",
       "      <th>count</th>\n",
       "      <td>1096.000000</td>\n",
       "      <td>1096.000000</td>\n",
       "    </tr>\n",
       "    <tr>\n",
       "      <th>mean</th>\n",
       "      <td>1.831796</td>\n",
       "      <td>16.927737</td>\n",
       "    </tr>\n",
       "    <tr>\n",
       "      <th>std</th>\n",
       "      <td>0.329434</td>\n",
       "      <td>10.791581</td>\n",
       "    </tr>\n",
       "    <tr>\n",
       "      <th>min</th>\n",
       "      <td>1.316033</td>\n",
       "      <td>-15.000000</td>\n",
       "    </tr>\n",
       "    <tr>\n",
       "      <th>25%</th>\n",
       "      <td>1.581654</td>\n",
       "      <td>8.900000</td>\n",
       "    </tr>\n",
       "    <tr>\n",
       "      <th>50%</th>\n",
       "      <td>1.731479</td>\n",
       "      <td>18.900000</td>\n",
       "    </tr>\n",
       "    <tr>\n",
       "      <th>75%</th>\n",
       "      <td>2.024869</td>\n",
       "      <td>26.100000</td>\n",
       "    </tr>\n",
       "    <tr>\n",
       "      <th>max</th>\n",
       "      <td>2.804025</td>\n",
       "      <td>33.900000</td>\n",
       "    </tr>\n",
       "  </tbody>\n",
       "</table>\n",
       "</div>"
      ],
      "text/plain": [
       "            demand         temp\n",
       "count  1096.000000  1096.000000\n",
       "mean      1.831796    16.927737\n",
       "std       0.329434    10.791581\n",
       "min       1.316033   -15.000000\n",
       "25%       1.581654     8.900000\n",
       "50%       1.731479    18.900000\n",
       "75%       2.024869    26.100000\n",
       "max       2.804025    33.900000"
      ]
     },
     "execution_count": 30,
     "metadata": {},
     "output_type": "execute_result"
    }
   ],
   "source": [
    "df.describe()"
   ]
  },
  {
   "cell_type": "code",
   "execution_count": 31,
   "metadata": {},
   "outputs": [
    {
     "name": "stdout",
     "output_type": "stream",
     "text": [
      "The dataframe has 0 invalid rows\n"
     ]
    }
   ],
   "source": [
    "inval_rows = df.shape[0]-df.dropna().shape[0]\n",
    "print(f\"The dataframe has {inval_rows} invalid rows\")"
   ]
  },
  {
   "cell_type": "markdown",
   "metadata": {},
   "source": [
    "### Create X and y "
   ]
  },
  {
   "cell_type": "code",
   "execution_count": 32,
   "metadata": {},
   "outputs": [
    {
     "name": "stdout",
     "output_type": "stream",
     "text": [
      "(1096, 1)\n",
      "(1096,)\n"
     ]
    }
   ],
   "source": [
    "X = np.array(df.drop(['demand'], axis=1))\n",
    "y = np.array(df['demand'])\n",
    "print(X.shape)\n",
    "print(y.shape)"
   ]
  },
  {
   "cell_type": "markdown",
   "metadata": {},
   "source": [
    "### Plot the distribution\n",
    "\n"
   ]
  },
  {
   "cell_type": "code",
   "execution_count": 33,
   "metadata": {},
   "outputs": [
    {
     "data": {
      "image/png": "[encoded data removed]",
      "text/plain": [
       "<Figure size 720x360 with 1 Axes>"
      ]
     },
     "metadata": {
      "needs_background": "light"
     },
     "output_type": "display_data"
    }
   ],
   "source": [
    "plt.figure(figsize=(10,5))\n",
    "plt.scatter(X, y)\n",
    "plt.xlabel(\"Temperature\")\n",
    "plt.ylabel(\"Demand\")\n",
    "plt.show()"
   ]
  },
  {
   "cell_type": "markdown",
   "metadata": {},
   "source": [
    "### Divide the dataset in train and test splits"
   ]
  },
  {
   "cell_type": "code",
   "execution_count": 34,
   "metadata": {},
   "outputs": [
    {
     "name": "stdout",
     "output_type": "stream",
     "text": [
      "767\n",
      "329\n"
     ]
    }
   ],
   "source": [
    "X_train, X_test, y_train, y_test = train_test_split(X, y, test_size=0.3, random_state=random_state)\n",
    "print(X_train.shape[0])\n",
    "print(X_test.shape[0])"
   ]
  },
  {
   "cell_type": "markdown",
   "metadata": {},
   "source": [
    "### Create an evaluation function to compute, print and return the metrics: rmse r2 f-statistic and p-value"
   ]
  },
  {
   "cell_type": "code",
   "execution_count": 35,
   "metadata": {},
   "outputs": [],
   "source": [
    "# Computation of F-statistic and p-value for the regression\n",
    "# http://facweb.cs.depaul.edu/sjost/csc423/documents/f-test-reg.htm\n",
    "def quality_measures(y_true, y_pred, n_var, n_obs):\n",
    "    n = n_obs       # Number of samples\n",
    "    p = n_var+1     # Degree of the polynomio\n",
    "\n",
    "    SSM = sum(((y_pred - np.mean(y_true))**2))\n",
    "    SSE = sum((y_true - y_pred)**2)\n",
    "\n",
    "    DFM = p - 1\n",
    "    DFE = n - p\n",
    "\n",
    "    fstat = round((SSM/DFM) / (SSE/DFE), 4)\n",
    "\n",
    "    p_val = 1-scipy.stats.f.cdf(fstat, DFM, DFE) #find p-value of F test statistic\n",
    "\n",
    "    rmse = mean_squared_error(y_true, y_pred, squared=False)\n",
    "    r2 = r2_score(y_true, y_pred)\n",
    "\n",
    "    return rmse, r2, fstat, p_val"
   ]
  },
  {
   "cell_type": "markdown",
   "metadata": {},
   "source": [
    "## First experiment\n",
    "Create a linear model \n",
    "\n",
    "Train the model on X_train and y_train \n",
    "\n",
    "Evaluate the model on X_test and y_test\n"
   ]
  },
  {
   "cell_type": "code",
   "execution_count": 36,
   "metadata": {},
   "outputs": [
    {
     "data": {
      "text/html": [
       "<div>\n",
       "<style scoped>\n",
       "    .dataframe tbody tr th:only-of-type {\n",
       "        vertical-align: middle;\n",
       "    }\n",
       "\n",
       "    .dataframe tbody tr th {\n",
       "        vertical-align: top;\n",
       "    }\n",
       "\n",
       "    .dataframe thead th {\n",
       "        text-align: right;\n",
       "    }\n",
       "</style>\n",
       "<table border=\"1\" class=\"dataframe\">\n",
       "  <thead>\n",
       "    <tr style=\"text-align: right;\">\n",
       "      <th></th>\n",
       "      <th>Measures</th>\n",
       "    </tr>\n",
       "  </thead>\n",
       "  <tbody>\n",
       "    <tr>\n",
       "      <th>Mean squared error</th>\n",
       "      <td>3.164793e-01</td>\n",
       "    </tr>\n",
       "    <tr>\n",
       "      <th>r2 score</th>\n",
       "      <td>1.802985e-01</td>\n",
       "    </tr>\n",
       "    <tr>\n",
       "      <th>f-statistic</th>\n",
       "      <td>5.327310e+01</td>\n",
       "    </tr>\n",
       "    <tr>\n",
       "      <th>p-value</th>\n",
       "      <td>2.219669e-12</td>\n",
       "    </tr>\n",
       "  </tbody>\n",
       "</table>\n",
       "</div>"
      ],
      "text/plain": [
       "                        Measures\n",
       "Mean squared error  3.164793e-01\n",
       "r2 score            1.802985e-01\n",
       "f-statistic         5.327310e+01\n",
       "p-value             2.219669e-12"
      ]
     },
     "execution_count": 36,
     "metadata": {},
     "output_type": "execute_result"
    }
   ],
   "source": [
    "estimator = LinearRegression()\n",
    "estimator.fit(X, y)\n",
    "y_test_pred = estimator.predict(X_test.reshape(-1, 1))\n",
    "rmse, r2, fstat, p_val = quality_measures(y_test, y_test_pred, X_test.shape[1], X_test.shape[0])\n",
    "measures1 = pd.DataFrame({\n",
    "    \"Measures\": [rmse, r2, fstat, p_val]\n",
    "}, index=[\n",
    "    \"Mean squared error\",\n",
    "    \"r2 score\",\n",
    "    \"f-statistic\",\n",
    "    \"p-value\"\n",
    "])\n",
    "\n",
    "measures1"
   ]
  },
  {
   "cell_type": "markdown",
   "metadata": {},
   "source": [
    "#### Visualize the prediction of the model "
   ]
  },
  {
   "cell_type": "code",
   "execution_count": 37,
   "metadata": {},
   "outputs": [
    {
     "data": {
      "image/png": "[encoded data removed]",
      "text/plain": [
       "<Figure size 720x360 with 1 Axes>"
      ]
     },
     "metadata": {
      "needs_background": "light"
     },
     "output_type": "display_data"
    }
   ],
   "source": [
    "lpred = estimator.predict(X)\n",
    "plt.figure(figsize=(10,5))\n",
    "plt.scatter(X, y)\n",
    "plt.plot(X, lpred, label=\"Estimator\", color='red')\n",
    "plt.show()"
   ]
  },
  {
   "cell_type": "markdown",
   "metadata": {},
   "source": [
    "## Second experiment - Polynomial regression\n",
    "We can clearly see that the linear regression model cannot really approximate the data distribution.\n",
    "\n",
    "We can now try with a non linear regression model:\n",
    "1. Use the sklearn fucntion _PolynomialFeature_ to create a new array of features. Set _degree=2_ and _include_bias=False_\n",
    "2. Train a Linear regression model with the new features\n",
    "3. Evaluate the model \n",
    "4. Visualize the predicted values of the model"
   ]
  },
  {
   "cell_type": "markdown",
   "metadata": {},
   "source": [
    "#### Polynomial degree = 2"
   ]
  },
  {
   "cell_type": "code",
   "execution_count": 38,
   "metadata": {},
   "outputs": [],
   "source": [
    "poly = PolynomialFeatures(degree=2, include_bias=False)\n",
    "X_pol = poly.fit_transform(X_train)\n",
    "X_pol_test = poly.transform(X_test)"
   ]
  },
  {
   "cell_type": "code",
   "execution_count": 39,
   "metadata": {},
   "outputs": [
    {
     "data": {
      "text/html": [
       "<div>\n",
       "<style scoped>\n",
       "    .dataframe tbody tr th:only-of-type {\n",
       "        vertical-align: middle;\n",
       "    }\n",
       "\n",
       "    .dataframe tbody tr th {\n",
       "        vertical-align: top;\n",
       "    }\n",
       "\n",
       "    .dataframe thead th {\n",
       "        text-align: right;\n",
       "    }\n",
       "</style>\n",
       "<table border=\"1\" class=\"dataframe\">\n",
       "  <thead>\n",
       "    <tr style=\"text-align: right;\">\n",
       "      <th></th>\n",
       "      <th>Measures</th>\n",
       "    </tr>\n",
       "  </thead>\n",
       "  <tbody>\n",
       "    <tr>\n",
       "      <th>Mean squared error</th>\n",
       "      <td>1.829105e-01</td>\n",
       "    </tr>\n",
       "    <tr>\n",
       "      <th>r2 score</th>\n",
       "      <td>7.261943e-01</td>\n",
       "    </tr>\n",
       "    <tr>\n",
       "      <th>f-statistic</th>\n",
       "      <td>3.848865e+02</td>\n",
       "    </tr>\n",
       "    <tr>\n",
       "      <th>p-value</th>\n",
       "      <td>1.110223e-16</td>\n",
       "    </tr>\n",
       "  </tbody>\n",
       "</table>\n",
       "</div>"
      ],
      "text/plain": [
       "                        Measures\n",
       "Mean squared error  1.829105e-01\n",
       "r2 score            7.261943e-01\n",
       "f-statistic         3.848865e+02\n",
       "p-value             1.110223e-16"
      ]
     },
     "execution_count": 39,
     "metadata": {},
     "output_type": "execute_result"
    }
   ],
   "source": [
    "estimator = LinearRegression()\n",
    "estimator.fit(X_pol, y_train)\n",
    "y_test_pred = estimator.predict(X_pol_test)\n",
    "rmse, r2, fstat, p_val = quality_measures(y_test, y_test_pred, X_pol_test.shape[1], X_pol_test.shape[0])\n",
    "measures2 = pd.DataFrame({\n",
    "    \"Measures\": [rmse, r2, fstat, p_val]\n",
    "}, index=[\n",
    "    \"Mean squared error\",\n",
    "    \"r2 score\",\n",
    "    \"f-statistic\",\n",
    "    \"p-value\"\n",
    "])\n",
    "\n",
    "measures2"
   ]
  },
  {
   "cell_type": "code",
   "execution_count": 40,
   "metadata": {},
   "outputs": [
    {
     "data": {
      "image/png": "[encoded data removed]",
      "text/plain": [
       "<Figure size 720x360 with 1 Axes>"
      ]
     },
     "metadata": {
      "needs_background": "light"
     },
     "output_type": "display_data"
    }
   ],
   "source": [
    "lpred = estimator.predict(poly.transform(np.arange(min(X), max(X)).reshape(-1,1)))\n",
    "plt.figure(figsize=(10,5))\n",
    "plt.scatter(X, y)\n",
    "plt.plot(np.arange(min(X), max(X)), lpred, label=\"Estimator\", color='red')\n",
    "plt.show()"
   ]
  },
  {
   "cell_type": "markdown",
   "metadata": {},
   "source": [
    "## Third experiment"
   ]
  },
  {
   "cell_type": "markdown",
   "metadata": {},
   "source": [
    "#### Polynomial degree = 3"
   ]
  },
  {
   "cell_type": "code",
   "execution_count": 41,
   "metadata": {},
   "outputs": [],
   "source": [
    "poly = PolynomialFeatures(degree=3, include_bias=False)\n",
    "X_pol = poly.fit_transform(X_train)\n",
    "X_pol_test = poly.transform(X_test)"
   ]
  },
  {
   "cell_type": "code",
   "execution_count": 42,
   "metadata": {},
   "outputs": [
    {
     "data": {
      "text/html": [
       "<div>\n",
       "<style scoped>\n",
       "    .dataframe tbody tr th:only-of-type {\n",
       "        vertical-align: middle;\n",
       "    }\n",
       "\n",
       "    .dataframe tbody tr th {\n",
       "        vertical-align: top;\n",
       "    }\n",
       "\n",
       "    .dataframe thead th {\n",
       "        text-align: right;\n",
       "    }\n",
       "</style>\n",
       "<table border=\"1\" class=\"dataframe\">\n",
       "  <thead>\n",
       "    <tr style=\"text-align: right;\">\n",
       "      <th></th>\n",
       "      <th>Measures</th>\n",
       "    </tr>\n",
       "  </thead>\n",
       "  <tbody>\n",
       "    <tr>\n",
       "      <th>Mean squared error</th>\n",
       "      <td>1.474768e-01</td>\n",
       "    </tr>\n",
       "    <tr>\n",
       "      <th>r2 score</th>\n",
       "      <td>8.220029e-01</td>\n",
       "    </tr>\n",
       "    <tr>\n",
       "      <th>f-statistic</th>\n",
       "      <td>5.023183e+02</td>\n",
       "    </tr>\n",
       "    <tr>\n",
       "      <th>p-value</th>\n",
       "      <td>1.110223e-16</td>\n",
       "    </tr>\n",
       "  </tbody>\n",
       "</table>\n",
       "</div>"
      ],
      "text/plain": [
       "                        Measures\n",
       "Mean squared error  1.474768e-01\n",
       "r2 score            8.220029e-01\n",
       "f-statistic         5.023183e+02\n",
       "p-value             1.110223e-16"
      ]
     },
     "execution_count": 42,
     "metadata": {},
     "output_type": "execute_result"
    }
   ],
   "source": [
    "estimator = LinearRegression()\n",
    "estimator.fit(X_pol, y_train)\n",
    "y_test_pred = estimator.predict(X_pol_test)\n",
    "rmse, r2, fstat, p_val = quality_measures(y_test, y_test_pred, X_pol_test.shape[1], X_pol_test.shape[0])\n",
    "measures3 = pd.DataFrame({\n",
    "    \"Measures\": [rmse, r2, fstat, p_val]\n",
    "}, index=[\n",
    "    \"Mean squared error\",\n",
    "    \"r2 score\",\n",
    "    \"f-statistic\",\n",
    "    \"p-value\"\n",
    "])\n",
    "\n",
    "measures3"
   ]
  },
  {
   "cell_type": "code",
   "execution_count": 43,
   "metadata": {},
   "outputs": [
    {
     "data": {
      "image/png": "[encoded data removed]",
      "text/plain": [
       "<Figure size 720x360 with 1 Axes>"
      ]
     },
     "metadata": {
      "needs_background": "light"
     },
     "output_type": "display_data"
    }
   ],
   "source": [
    "lpred = estimator.predict(poly.transform(np.arange(min(X), max(X)).reshape(-1,1)))\n",
    "plt.figure(figsize=(10,5))\n",
    "plt.scatter(X, y)\n",
    "plt.plot(np.arange(min(X), max(X)), lpred, label=\"Estimator\", color='red')\n",
    "plt.show()"
   ]
  },
  {
   "cell_type": "markdown",
   "metadata": {},
   "source": [
    "## Fourth experiment\n",
    "### Polynomial degree = 4"
   ]
  },
  {
   "cell_type": "code",
   "execution_count": 44,
   "metadata": {},
   "outputs": [],
   "source": [
    "poly = PolynomialFeatures(degree=4, include_bias=False)\n",
    "X_pol = poly.fit_transform(X_train)\n",
    "X_pol_test = poly.transform(X_test)"
   ]
  },
  {
   "cell_type": "code",
   "execution_count": 45,
   "metadata": {},
   "outputs": [
    {
     "data": {
      "text/html": [
       "<div>\n",
       "<style scoped>\n",
       "    .dataframe tbody tr th:only-of-type {\n",
       "        vertical-align: middle;\n",
       "    }\n",
       "\n",
       "    .dataframe tbody tr th {\n",
       "        vertical-align: top;\n",
       "    }\n",
       "\n",
       "    .dataframe thead th {\n",
       "        text-align: right;\n",
       "    }\n",
       "</style>\n",
       "<table border=\"1\" class=\"dataframe\">\n",
       "  <thead>\n",
       "    <tr style=\"text-align: right;\">\n",
       "      <th></th>\n",
       "      <th>Measures</th>\n",
       "    </tr>\n",
       "  </thead>\n",
       "  <tbody>\n",
       "    <tr>\n",
       "      <th>Mean squared error</th>\n",
       "      <td>1.460612e-01</td>\n",
       "    </tr>\n",
       "    <tr>\n",
       "      <th>r2 score</th>\n",
       "      <td>8.254037e-01</td>\n",
       "    </tr>\n",
       "    <tr>\n",
       "      <th>f-statistic</th>\n",
       "      <td>3.900454e+02</td>\n",
       "    </tr>\n",
       "    <tr>\n",
       "      <th>p-value</th>\n",
       "      <td>1.110223e-16</td>\n",
       "    </tr>\n",
       "  </tbody>\n",
       "</table>\n",
       "</div>"
      ],
      "text/plain": [
       "                        Measures\n",
       "Mean squared error  1.460612e-01\n",
       "r2 score            8.254037e-01\n",
       "f-statistic         3.900454e+02\n",
       "p-value             1.110223e-16"
      ]
     },
     "execution_count": 45,
     "metadata": {},
     "output_type": "execute_result"
    }
   ],
   "source": [
    "estimator = LinearRegression()\n",
    "estimator.fit(X_pol, y_train)\n",
    "y_test_pred = estimator.predict(X_pol_test)\n",
    "rmse, r2, fstat, p_val = quality_measures(y_test, y_test_pred, X_pol_test.shape[1], X_pol_test.shape[0])\n",
    "measures4 = pd.DataFrame({\n",
    "    \"Measures\": [rmse, r2, fstat, p_val]\n",
    "}, index=[\n",
    "    \"Mean squared error\",\n",
    "    \"r2 score\",\n",
    "    \"f-statistic\",\n",
    "    \"p-value\"\n",
    "])\n",
    "\n",
    "measures4"
   ]
  },
  {
   "cell_type": "code",
   "execution_count": 46,
   "metadata": {},
   "outputs": [
    {
     "data": {
      "image/png": "[encoded data removed]",
      "text/plain": [
       "<Figure size 720x360 with 1 Axes>"
      ]
     },
     "metadata": {
      "needs_background": "light"
     },
     "output_type": "display_data"
    }
   ],
   "source": [
    "lpred = estimator.predict(poly.transform(np.arange(min(X), max(X)).reshape(-1,1)))\n",
    "plt.figure(figsize=(10,5))\n",
    "plt.scatter(X, y)\n",
    "plt.plot(np.arange(min(X), max(X)), lpred, label=\"Estimator\", color='red')\n",
    "plt.show()"
   ]
  },
  {
   "cell_type": "markdown",
   "metadata": {},
   "source": [
    "## Compare the performance of the four models"
   ]
  },
  {
   "cell_type": "code",
   "execution_count": 48,
   "metadata": {},
   "outputs": [
    {
     "data": {
      "text/html": [
       "<div>\n",
       "<style scoped>\n",
       "    .dataframe tbody tr th:only-of-type {\n",
       "        vertical-align: middle;\n",
       "    }\n",
       "\n",
       "    .dataframe tbody tr th {\n",
       "        vertical-align: top;\n",
       "    }\n",
       "\n",
       "    .dataframe thead th {\n",
       "        text-align: right;\n",
       "    }\n",
       "</style>\n",
       "<table border=\"1\" class=\"dataframe\">\n",
       "  <thead>\n",
       "    <tr style=\"text-align: right;\">\n",
       "      <th></th>\n",
       "      <th>linear</th>\n",
       "      <th>degree = 2</th>\n",
       "      <th>degree = 3</th>\n",
       "      <th>degree = 4</th>\n",
       "    </tr>\n",
       "  </thead>\n",
       "  <tbody>\n",
       "    <tr>\n",
       "      <th>Mean squared error</th>\n",
       "      <td>3.164793e-01</td>\n",
       "      <td>1.829105e-01</td>\n",
       "      <td>1.474768e-01</td>\n",
       "      <td>1.460612e-01</td>\n",
       "    </tr>\n",
       "    <tr>\n",
       "      <th>r2 score</th>\n",
       "      <td>1.802985e-01</td>\n",
       "      <td>7.261943e-01</td>\n",
       "      <td>8.220029e-01</td>\n",
       "      <td>8.254037e-01</td>\n",
       "    </tr>\n",
       "    <tr>\n",
       "      <th>f-statistic</th>\n",
       "      <td>5.327310e+01</td>\n",
       "      <td>3.848865e+02</td>\n",
       "      <td>5.023183e+02</td>\n",
       "      <td>3.900454e+02</td>\n",
       "    </tr>\n",
       "    <tr>\n",
       "      <th>p-value</th>\n",
       "      <td>2.219669e-12</td>\n",
       "      <td>1.110223e-16</td>\n",
       "      <td>1.110223e-16</td>\n",
       "      <td>1.110223e-16</td>\n",
       "    </tr>\n",
       "  </tbody>\n",
       "</table>\n",
       "</div>"
      ],
      "text/plain": [
       "                          linear    degree = 2    degree = 3    degree = 4\n",
       "Mean squared error  3.164793e-01  1.829105e-01  1.474768e-01  1.460612e-01\n",
       "r2 score            1.802985e-01  7.261943e-01  8.220029e-01  8.254037e-01\n",
       "f-statistic         5.327310e+01  3.848865e+02  5.023183e+02  3.900454e+02\n",
       "p-value             2.219669e-12  1.110223e-16  1.110223e-16  1.110223e-16"
      ]
     },
     "execution_count": 48,
     "metadata": {},
     "output_type": "execute_result"
    }
   ],
   "source": [
    "compare = pd.DataFrame({\n",
    "    \"linear\": measures1['Measures'],\n",
    "    \"degree = 2\": measures2['Measures'],\n",
    "    \"degree = 3\": measures3['Measures'],\n",
    "    \"degree = 4\": measures4['Measures']\n",
    "}, index=measures1.index)\n",
    "compare"
   ]
  }
 ],
 "metadata": {
  "kernelspec": {
   "display_name": "Python 3.9.7 ('base')",
   "language": "python",
   "name": "python3"
  },
  "language_info": {
   "codemirror_mode": {
    "name": "ipython",
    "version": 3
   },
   "file_extension": ".py",
   "mimetype": "text/x-python",
   "name": "python",
   "nbconvert_exporter": "python",
   "pygments_lexer": "ipython3",
   "version": "3.9.7"
  },
  "orig_nbformat": 4,
  "vscode": {
   "interpreter": {
    "hash": "64f2f6605048281af465bf292f4f7e1a1bc59fa24ff7b08b304ef384b9dddca7"
   }
  }
 },
 "nbformat": 4,
 "nbformat_minor": 2
}
